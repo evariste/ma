{
 "cells": [
  {
   "cell_type": "markdown",
   "metadata": {},
   "source": [
    "Let _T = {1,4,7,10,...}_\n",
    "\n",
    "An element > 1 of _T_ is irreducible if its only factors in _T_ are 1 and itself.\n",
    "\n",
    "Find examples of elements in _T_ with _nonunique_ factorisations into irreducibles."
   ]
  },
  {
   "cell_type": "code",
   "execution_count": 1,
   "metadata": {
    "collapsed": true
   },
   "outputs": [],
   "source": [
    "import numpy as np\n",
    "import itertools"
   ]
  },
  {
   "cell_type": "code",
   "execution_count": 2,
   "metadata": {
    "collapsed": true
   },
   "outputs": [],
   "source": [
    "# 3k+1 between 1 and 100 ...\n",
    "max_val = 500\n",
    "ns = np.arange(1, max_val + 1,3)\n",
    "\n",
    "n_vals = len(ns)"
   ]
  },
  {
   "cell_type": "code",
   "execution_count": 3,
   "metadata": {
    "collapsed": false
   },
   "outputs": [],
   "source": [
    "irreducible = np.ones((n_vals,))\n",
    "\n",
    "\n",
    "for j in range(1, n_vals):\n",
    "  if not(irreducible[j]):\n",
    "    continue\n",
    "    \n",
    "  curr_val = ns[j]\n",
    "  \n",
    "  k = curr_val + j\n",
    "  \n",
    "  while k < n_vals:\n",
    "    irreducible[k] = 0\n",
    "    k += curr_val\n",
    "    \n",
    "    "
   ]
  },
  {
   "cell_type": "code",
   "execution_count": 4,
   "metadata": {
    "collapsed": false
   },
   "outputs": [],
   "source": [
    "facts = []\n",
    "\n",
    "for j,k in itertools.combinations_with_replacement(range(n_vals), 2):\n",
    "  a, b = ns[j], ns[k]\n",
    "\n",
    "  if (a < 2) or (b < 2):\n",
    "    continue\n",
    "  \n",
    "  if not irreducible[j]:\n",
    "    continue\n",
    "    \n",
    "  if not irreducible[k]:\n",
    "    continue\n",
    "    \n",
    "  prod = a*b\n",
    "  \n",
    "  if prod > max_val:\n",
    "    continue\n",
    "        \n",
    "  facts.append(((a,b),prod))"
   ]
  },
  {
   "cell_type": "code",
   "execution_count": 5,
   "metadata": {
    "collapsed": false
   },
   "outputs": [],
   "source": [
    "prods = np.unique([x[1] for x in facts])\n",
    "\n",
    "ordered_facts = dict.fromkeys(prods)\n",
    "for k in ordered_facts:\n",
    "  ordered_facts[k] = []\n",
    "  \n",
    "for pair, k in facts:\n",
    "  ordered_facts[k].append(pair)"
   ]
  },
  {
   "cell_type": "code",
   "execution_count": 6,
   "metadata": {
    "collapsed": false
   },
   "outputs": [
    {
     "name": "stdout",
     "output_type": "stream",
     "text": [
      "(100, [(4, 25), (10, 10)])\n",
      "(220, [(4, 55), (10, 22)])\n",
      "(340, [(4, 85), (10, 34)])\n",
      "(460, [(4, 115), (10, 46)])\n",
      "(484, [(4, 121), (22, 22)])\n"
     ]
    }
   ],
   "source": [
    "# Elements with non-unique factorisations.\n",
    "for k in sorted(ordered_facts.keys()):\n",
    "  if len(ordered_facts[k]) < 2:\n",
    "    continue\n",
    "  print(k, ordered_facts[k])\n",
    "\n",
    "  "
   ]
  },
  {
   "cell_type": "code",
   "execution_count": null,
   "metadata": {
    "collapsed": true
   },
   "outputs": [],
   "source": []
  }
 ],
 "metadata": {
  "kernelspec": {
   "display_name": "Python 2",
   "language": "python",
   "name": "python2"
  },
  "language_info": {
   "codemirror_mode": {
    "name": "ipython",
    "version": 2
   },
   "file_extension": ".py",
   "mimetype": "text/x-python",
   "name": "python",
   "nbconvert_exporter": "python",
   "pygments_lexer": "ipython2",
   "version": "2.7.10"
  }
 },
 "nbformat": 4,
 "nbformat_minor": 2
}
